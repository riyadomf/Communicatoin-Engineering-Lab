{
  "nbformat": 4,
  "nbformat_minor": 0,
  "metadata": {
    "colab": {
      "name": "Block_coding.ipynb",
      "provenance": []
    },
    "kernelspec": {
      "name": "python3",
      "display_name": "Python 3"
    },
    "language_info": {
      "name": "python"
    }
  },
  "cells": [
    {
      "cell_type": "markdown",
      "metadata": {
        "id": "ztMK2u3eLb4_"
      },
      "source": [
        "$$\\textbf{Block coding$$}$$"
      ]
    },
    {
      "cell_type": "markdown",
      "metadata": {
        "id": "CtsEMjf3YOzI"
      },
      "source": [
        "$$\\textsf{1) 4B/5B}$$"
      ]
    },
    {
      "cell_type": "markdown",
      "metadata": {
        "id": "ua3QgeIRY--f"
      },
      "source": [
        "$\\textrm{Encoding:}$"
      ]
    },
    {
      "cell_type": "code",
      "metadata": {
        "id": "_DDe-0IcYGKJ"
      },
      "source": [
        "import numpy as np\n",
        "import matplotlib.pyplot as plt"
      ],
      "execution_count": null,
      "outputs": []
    },
    {
      "cell_type": "code",
      "metadata": {
        "id": "fa5tRRP4YIgA"
      },
      "source": [
        "encoding_maps = {\n",
        "\"0000\": \"01010\",\n",
        "\"0001\": \"10010\",\n",
        "\"0010\": \"10100\",\n",
        "\"0011\": \"10101\",\n",
        "\"0100\": \"11110\",\n",
        "\"0101\": \"01011\",\n",
        "\"0110\": \"01110\",\n",
        "\"0111\": \"01111\",\n",
        "\"1000\": \"01001\",\n",
        "\"1001\": \"10011\",\n",
        "\"1010\": \"10110\",\n",
        "\"1011\": \"10111\",\n",
        "\"1100\": \"11010\",\n",
        "\"1101\": \"11011\",\n",
        "\"1110\": \"11100\",\n",
        "\"1111\": \"11101\",\n",
        "}\n",
        "decoding_maps = {\n",
        "\"11110\": \"0000\",\n",
        "\"01001\": \"0001\",\n",
        "\"10100\": \"0010\",\n",
        "\"10101\": \"0011\",\n",
        "\"01010\": \"0100\",\n",
        "\"01011\": \"0101\",\n",
        "\"01110\": \"0110\",\n",
        "\"01111\": \"0111\",\n",
        "\"10010\": \"1000\",\n",
        "\"10011\": \"1001\",\n",
        "\"10110\": \"1010\",\n",
        "\"10111\": \"1011\",\n",
        "\"11010\": \"1100\",\n",
        "\"11011\": \"1101\",\n",
        "\"11100\": \"1110\",\n",
        "\"11101\": \"1111\",\n",
        "}"
      ],
      "execution_count": null,
      "outputs": []
    },
    {
      "cell_type": "code",
      "metadata": {
        "colab": {
          "base_uri": "https://localhost:8080/"
        },
        "id": "kh0bmMGaYsKy",
        "outputId": "6bc72590-a50e-428b-9710-4aae4c0dda39"
      },
      "source": [
        "mB = 4\n",
        "nB = 5\n",
        "bitstream = np.array([0,1,1,0,1,0,0,1,0,1,1,0,0,0,1,0,1,0,0,1,0,0,1])\n",
        "\n",
        "if len(bitstream)%mB != 0:\n",
        "  extra_zeros = np.array(np.zeros(mB-len(bitstream)%mB),dtype=int)\n",
        "  bitstream = np.append(bitstream,extra_zeros)\n",
        "\n",
        "encoded_bitstream = \"\"\n",
        "for i in range(0, len(bitstream), mB):\n",
        "  encoded_bitstream += encoding_maps.get(\"\".join(map(str,bitstream[i:i+mB])))\n",
        "\n",
        "\n",
        "encoded_bitstream = np.array(list(encoded_bitstream),dtype=int)\n",
        "print(encoded_bitstream)"
      ],
      "execution_count": null,
      "outputs": [
        {
          "output_type": "stream",
          "name": "stdout",
          "text": [
            "[0 1 1 1 0 1 0 0 1 1 0 1 1 1 0 1 0 1 0 0 1 0 0 1 1 1 0 1 0 0]\n"
          ]
        }
      ]
    },
    {
      "cell_type": "markdown",
      "metadata": {
        "id": "JQLCfOclZGcw"
      },
      "source": [
        "$\\textrm{Decoding:}$"
      ]
    },
    {
      "cell_type": "code",
      "metadata": {
        "colab": {
          "base_uri": "https://localhost:8080/"
        },
        "id": "w0yUoDA7ZIx3",
        "outputId": "6fc92451-d7e4-48e0-b71d-5c4e9e610cef"
      },
      "source": [
        "bitstream = encoded_bitstream\n",
        "decoded_bitstream = \"\"\n",
        "if len(bitstream)%nB !=0:\n",
        "  print(\"Error occured in receiving code blocks\")\n",
        "for i in range(0, len(bitstream), nB):\n",
        "  decoded_bitstream+= decoding_maps.get(\"\".join(map(str,bitstream[i:i+nB])))\n",
        "\n",
        "decoded_bitstream = np.array(list(decoded_bitstream), dtype=int)\n",
        "print(decoded_bitstream)"
      ],
      "execution_count": null,
      "outputs": [
        {
          "output_type": "stream",
          "name": "stdout",
          "text": [
            "[0 1 1 0 1 0 0 1 0 1 1 0 0 0 1 0 1 0 0 1 0 0 1 0]\n"
          ]
        }
      ]
    }
  ]
}