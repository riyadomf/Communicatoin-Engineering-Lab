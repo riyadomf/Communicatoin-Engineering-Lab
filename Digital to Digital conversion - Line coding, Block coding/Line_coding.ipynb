{
  "nbformat": 4,
  "nbformat_minor": 0,
  "metadata": {
    "colab": {
      "name": "Line_coding.ipynb",
      "provenance": []
    },
    "kernelspec": {
      "name": "python3",
      "display_name": "Python 3"
    },
    "language_info": {
      "name": "python"
    }
  },
  "cells": [
    {
      "cell_type": "markdown",
      "metadata": {
        "id": "ztMK2u3eLb4_"
      },
      "source": [
        "$$\\textbf{Line coding$$}$$"
      ]
    },
    {
      "cell_type": "markdown",
      "metadata": {
        "id": "MfHBVarm6O5W"
      },
      "source": [
        "\n",
        "\n",
        "$$\\textsf{1)   Unipolar NRZ}$$\n",
        "\n",
        "\n"
      ]
    },
    {
      "cell_type": "markdown",
      "metadata": {
        "id": "btbV2RlR6iaP"
      },
      "source": [
        "$\\textrm{Encoding:}$"
      ]
    },
    {
      "cell_type": "code",
      "metadata": {
        "id": "lfWAaw2VjqGE"
      },
      "source": [
        "import numpy as np\n",
        "import matplotlib.pyplot as plt\n",
        "import math"
      ],
      "execution_count": null,
      "outputs": []
    },
    {
      "cell_type": "code",
      "metadata": {
        "id": "Rs8M7HfYPR4E"
      },
      "source": [
        "def unipolar_NRZ(input_stream, max_voltage, min_voltage):\n",
        "  time = np.arange(0, len(input_stream), 0.001)\n",
        "  voltage = []\n",
        "  flag = 0\n",
        "  for i in input_stream:\n",
        "    if i==0:\n",
        "      for j in np.arange(flag, flag+1, 0.001):\n",
        "        voltage.append(min_voltage)\n",
        "    else:\n",
        "      for j in np.arange(flag, flag+1, 0.001):\n",
        "        voltage.append(max_voltage)\n",
        "    flag = flag + 1\n",
        "  \n",
        "  fig, ax = plt.subplots()\n",
        "  for spine in ['top', 'right']:\n",
        "    ax.spines[spine].set_visible(False)\n",
        "  ax.plot(time, voltage)\n",
        "  ax.set_title('Unipolar NRZ', fontsize = 15)\n",
        "  plt.xticks(np.arange(0, len(input_stream) + 1, 1))\n",
        "  ax.set_xlabel('Time', fontsize=12)\n",
        "  ax.set_ylabel('Amplitude', fontsize=12)\n",
        "  plt.show()\n",
        "  \n",
        "  return voltage"
      ],
      "execution_count": null,
      "outputs": []
    },
    {
      "cell_type": "code",
      "metadata": {
        "colab": {
          "base_uri": "https://localhost:8080/"
        },
        "id": "viv8z9DWzMWQ",
        "outputId": "105ecbfa-711f-45f0-f809-42eda8fac95b"
      },
      "source": [
        "input_stream = [1,0,1,0,0,1,1,1,0,1]\n",
        "voltage = unipolar_NRZ(input_stream, 5, 0)"
      ],
      "execution_count": null,
      "outputs": [
        {
          "output_type": "display_data",
          "data": {
            "image/png": "[encoded data removed]",
            "text/plain": [
              "<Figure size 432x288 with 1 Axes>"
            ]
          },
          "metadata": {
            "needs_background": "light"
          }
        }
      ]
    },
    {
      "cell_type": "markdown",
      "metadata": {
        "id": "-qvn12Ji6mAv"
      },
      "source": [
        "$\\textrm{Decoding:}$"
      ]
    },
    {
      "cell_type": "code",
      "metadata": {
        "colab": {
          "base_uri": "https://localhost:8080/"
        },
        "id": "nWY4zaDp6oiW",
        "outputId": "0354ef82-43a7-4a22-b4d7-f5019dd34425"
      },
      "source": [
        "i = 0\n",
        "decoded_output = []\n",
        "while (i<len(input_stream)*1000):\n",
        "  if voltage[i] == 5:\n",
        "    decoded_output.append(1)\n",
        "  else:\n",
        "    decoded_output.append(0)\n",
        "  i+=1000\n",
        "\n",
        "print(decoded_output)"
      ],
      "execution_count": null,
      "outputs": [
        {
          "output_type": "stream",
          "name": "stdout",
          "text": [
            "[1, 0, 1, 0, 0, 1, 1, 1, 0, 1]\n"
          ]
        }
      ]
    },
    {
      "cell_type": "markdown",
      "metadata": {
        "id": "LqDWlOSe3WF8"
      },
      "source": [
        "$$\\textsf{2) Polar NRZ-L}$$"
      ]
    },
    {
      "cell_type": "markdown",
      "metadata": {
        "id": "Oej3eFVoC_Kp"
      },
      "source": [
        "$\\textrm{Encoding:}$"
      ]
    },
    {
      "cell_type": "code",
      "metadata": {
        "id": "I7JBJBU53qlU"
      },
      "source": [
        "def polar_NRZ_L(input_stream, max_voltage, min_voltage):\n",
        "  time = np.arange(0, len(input_stream), 0.001)\n",
        "  voltage = []\n",
        "  flag = 0\n",
        "  for i in input_stream:\n",
        "    if i==0:\n",
        "      for j in np.arange(flag, flag+1, 0.001):\n",
        "        voltage.append(max_voltage)\n",
        "    else:\n",
        "      for j in np.arange(flag, flag+1, 0.001):\n",
        "        voltage.append(min_voltage)\n",
        "    flag = flag + 1\n",
        "  \n",
        "  fig, ax = plt.subplots()\n",
        "  for spine in ['top', 'right']:\n",
        "    ax.spines[spine].set_visible(False)\n",
        "  ax.spines['bottom'].set_position('zero')\n",
        "  ax.plot(time, voltage)\n",
        "  ax.set_title('Polar NRZ-L', fontsize = 15)\n",
        "  plt.xticks(np.arange(0, len(input_stream) + 1, 1))\n",
        "  plt.yticks(np.arange(min_voltage,max_voltage+1, 1))\n",
        "  ax.set_xlabel('Time', fontsize = 12, x = 1)\n",
        "  ax.set_ylabel('Amplitude', fontsize=12)\n",
        "\n",
        "  return voltage"
      ],
      "execution_count": null,
      "outputs": []
    },
    {
      "cell_type": "code",
      "metadata": {
        "colab": {
          "base_uri": "https://localhost:8080/"
        },
        "id": "jkWHrYOl9G1z",
        "outputId": "1f18306d-c19f-46f3-981f-162ed03e1530"
      },
      "source": [
        "input_stream = [1,0,1,0,0,1,1,1,0,1]\n",
        "\n",
        "voltage = polar_NRZ_L(input_stream, 5, -5)"
      ],
      "execution_count": null,
      "outputs": [
        {
          "output_type": "display_data",
          "data": {
            "image/png": "[encoded data removed]",
            "text/plain": [
              "<Figure size 432x288 with 1 Axes>"
            ]
          },
          "metadata": {
            "needs_background": "light"
          }
        }
      ]
    },
    {
      "cell_type": "markdown",
      "metadata": {
        "id": "aRAa4j_xDLRM"
      },
      "source": [
        "$\\textrm{Decoding:}$"
      ]
    },
    {
      "cell_type": "code",
      "metadata": {
        "colab": {
          "base_uri": "https://localhost:8080/"
        },
        "id": "GOmVv7qZDQcE",
        "outputId": "4ae117dc-45c9-4cbf-cb0c-c69c69d85c52"
      },
      "source": [
        "i = 0\n",
        "decoded_output = []\n",
        "while (i<len(input_stream)*1000):\n",
        "  if voltage[i] == 5:\n",
        "    decoded_output.append(0)\n",
        "  else:\n",
        "    decoded_output.append(1)\n",
        "  i+=1000\n",
        "\n",
        "print(decoded_output)"
      ],
      "execution_count": null,
      "outputs": [
        {
          "output_type": "stream",
          "name": "stdout",
          "text": [
            "[1, 0, 1, 0, 0, 1, 1, 1, 0, 1]\n"
          ]
        }
      ]
    },
    {
      "cell_type": "markdown",
      "metadata": {
        "id": "qv3wcSBrX6dA"
      },
      "source": [
        "$$\\textsf{3) Polar NRZ-I}$$"
      ]
    },
    {
      "cell_type": "markdown",
      "metadata": {
        "id": "ju7z1Fi8F01N"
      },
      "source": [
        "$\\textrm{Encoding:}$"
      ]
    },
    {
      "cell_type": "code",
      "metadata": {
        "id": "lXxfD3YeY7qK"
      },
      "source": [
        "def polar_NRZ_I(input_stream, peak_voltage):\n",
        "  time = np.arange(0, len(input_stream), 0.001)\n",
        "  voltage = []\n",
        "  flag = 0\n",
        "  last_voltage = peak_voltage\n",
        "  \n",
        "  for i in input_stream:\n",
        "    if i==0 or flag==0:\n",
        "      for j in np.arange(flag, flag+1, 0.001):\n",
        "        voltage.append(last_voltage)\n",
        "    else:\n",
        "      for j in np.arange(flag, flag+1, 0.001):\n",
        "        voltage.append(-1*last_voltage)\n",
        "      last_voltage = -1*last_voltage\n",
        "    flag = flag + 1      \n",
        "  \n",
        "  fig, ax = plt.subplots()\n",
        "  for spine in ['top', 'right']:\n",
        "    ax.spines[spine].set_visible(False)\n",
        "  ax.spines['bottom'].set_position('zero')\n",
        "  ax.plot(time, voltage)\n",
        "  ax.set_title('Polar NRZ-I', fontsize = 15)\n",
        "  plt.xticks(np.arange(0, len(input_stream) + 1, 1))\n",
        "  plt.yticks(np.arange(-1*peak_voltage, peak_voltage+1, 1))\n",
        "  ax.set_xlabel('Time', fontsize = 12, x = 1)\n",
        "  ax.set_ylabel('Amplitude', fontsize=12)\n",
        "\n",
        "  return voltage"
      ],
      "execution_count": null,
      "outputs": []
    },
    {
      "cell_type": "code",
      "metadata": {
        "colab": {
          "base_uri": "https://localhost:8080/"
        },
        "id": "RDcRzz5Telpi",
        "outputId": "49ceef64-669d-4722-8dd4-7feab7de48c2"
      },
      "source": [
        "input_stream = [1,1,1,0,0,1,1,0,1,1]\n",
        "\n",
        "voltage = polar_NRZ_I(input_stream, 5)"
      ],
      "execution_count": null,
      "outputs": [
        {
          "output_type": "display_data",
          "data": {
            "image/png": "[encoded data removed]",
            "text/plain": [
              "<Figure size 432x288 with 1 Axes>"
            ]
          },
          "metadata": {
            "needs_background": "light"
          }
        }
      ]
    },
    {
      "cell_type": "markdown",
      "metadata": {
        "id": "xTCii7tbFyYo"
      },
      "source": [
        "$\\textrm{Decoding:}$"
      ]
    },
    {
      "cell_type": "code",
      "metadata": {
        "colab": {
          "base_uri": "https://localhost:8080/"
        },
        "id": "ECHRngdwF3GN",
        "outputId": "65530e31-b78b-4ebb-fb24-e0c4af3594f7"
      },
      "source": [
        "i = 1000\n",
        "last_voltage = 5\n",
        "decoded_output = [1]\n",
        "while (i<len(input_stream)*1000):\n",
        "  if voltage[i] == last_voltage:\n",
        "    decoded_output.append(0)\n",
        "  else:\n",
        "    decoded_output.append(1)\n",
        "    last_voltage = -1*last_voltage\n",
        "  i+=1000\n",
        "\n",
        "print(decoded_output)"
      ],
      "execution_count": null,
      "outputs": [
        {
          "output_type": "stream",
          "name": "stdout",
          "text": [
            "[1, 1, 1, 0, 0, 1, 1, 0, 1, 1]\n"
          ]
        }
      ]
    },
    {
      "cell_type": "markdown",
      "metadata": {
        "id": "Rx1GSHHpixfN"
      },
      "source": [
        "$$\\textsf{4) Polar RZ}$$"
      ]
    },
    {
      "cell_type": "markdown",
      "metadata": {
        "id": "oLlxTUTdHkUa"
      },
      "source": [
        "$\\textrm{Encoding:}$"
      ]
    },
    {
      "cell_type": "code",
      "metadata": {
        "id": "XlxzcT_Bjt9s"
      },
      "source": [
        "def polar_RZ(input_stream, peak_voltage):\n",
        "  time = np.arange(0, len(input_stream), 0.001)\n",
        "  voltage = []\n",
        "  flag = 0\n",
        "\n",
        "  for i in input_stream:\n",
        "    if i==0:\n",
        "      for j in np.arange(flag, flag+0.5, 0.001):\n",
        "        voltage.append(-1*peak_voltage)\n",
        "      for j in np.arange(flag+0.5, flag+1, 0.001):\n",
        "        voltage.append(0)\n",
        "    else:\n",
        "      for j in np.arange(flag, flag+0.5, 0.001):\n",
        "        voltage.append(peak_voltage)\n",
        "      for j in np.arange(flag+0.5, flag+1, 0.001):\n",
        "        voltage.append(0)\n",
        "    flag = flag + 1\n",
        "  \n",
        "  fig, ax = plt.subplots()\n",
        "  for spine in ['top', 'right']:\n",
        "    ax.spines[spine].set_visible(False)\n",
        "  ax.spines['bottom'].set_position('zero')\n",
        "  ax.plot(time, voltage)\n",
        "  ax.set_title('Polar RZ', fontsize = 15)\n",
        "  plt.xticks(np.arange(0, len(input_stream) + 1, 1))\n",
        "  plt.yticks(np.arange(-1*peak_voltage, peak_voltage+1, 1))\n",
        "  ax.set_xlabel('Time', fontsize = 12, x = 1)\n",
        "  ax.set_ylabel('Amplitude', fontsize=12)\n",
        "\n",
        "  return voltage"
      ],
      "execution_count": null,
      "outputs": []
    },
    {
      "cell_type": "code",
      "metadata": {
        "colab": {
          "base_uri": "https://localhost:8080/"
        },
        "id": "hl62YS2QjdMO",
        "outputId": "8e7e9523-c568-4a18-8dbc-b33c7179c378"
      },
      "source": [
        "input_stream = [1,1,1,0,0,1,1,0,1,1]\n",
        "voltage = polar_RZ(input_stream, 5)"
      ],
      "execution_count": null,
      "outputs": [
        {
          "output_type": "display_data",
          "data": {
            "image/png": "[encoded data removed]",
            "text/plain": [
              "<Figure size 432x288 with 1 Axes>"
            ]
          },
          "metadata": {
            "needs_background": "light"
          }
        }
      ]
    },
    {
      "cell_type": "markdown",
      "metadata": {
        "id": "Mkfn9RMzHjhK"
      },
      "source": [
        "$\\textrm{Decoding:}$"
      ]
    },
    {
      "cell_type": "code",
      "metadata": {
        "colab": {
          "base_uri": "https://localhost:8080/"
        },
        "id": "IkX0TmqaHn_6",
        "outputId": "5217fce6-f4d6-4330-dff1-292bb86a36e3"
      },
      "source": [
        "i = 0\n",
        "decoded_output = []\n",
        "while (i<len(input_stream)*1000):\n",
        "  if voltage[i] == 5:\n",
        "    decoded_output.append(1)\n",
        "  else:\n",
        "    decoded_output.append(0)\n",
        "  i+=1000\n",
        "\n",
        "print(decoded_output)"
      ],
      "execution_count": null,
      "outputs": [
        {
          "output_type": "stream",
          "name": "stdout",
          "text": [
            "[1, 1, 1, 0, 0, 1, 1, 0, 1, 1]\n"
          ]
        }
      ]
    },
    {
      "cell_type": "markdown",
      "metadata": {
        "id": "tAdd0ZFxk5iC"
      },
      "source": [
        "$$\\textsf{5) Manchester}$$"
      ]
    },
    {
      "cell_type": "markdown",
      "metadata": {
        "id": "opughTsqIDMU"
      },
      "source": [
        "$\\textrm{Encoding:}$"
      ]
    },
    {
      "cell_type": "code",
      "metadata": {
        "id": "TLDc-GEJkcct"
      },
      "source": [
        "def manchester(input_stream, peak_voltage):\n",
        "  time = np.arange(0, len(input_stream), 0.001)\n",
        "  voltage = []\n",
        "  flag = 0\n",
        "\n",
        "  for i in input_stream:\n",
        "    if i==0:\n",
        "      for j in np.arange(flag, flag+0.5, 0.001):\n",
        "        voltage.append(peak_voltage)\n",
        "      for j in np.arange(flag+0.5, flag+1, 0.001):\n",
        "        voltage.append(-1*peak_voltage)\n",
        "    else:\n",
        "      for j in np.arange(flag, flag+0.5, 0.001):\n",
        "        voltage.append(-1*peak_voltage)\n",
        "      for j in np.arange(flag+0.5, flag+1, 0.001):\n",
        "        voltage.append(peak_voltage)\n",
        "    flag = flag + 1\n",
        "\n",
        "  fig, ax = plt.subplots()\n",
        "  for spine in ['top', 'right']:\n",
        "    ax.spines[spine].set_visible(False)\n",
        "  ax.spines['bottom'].set_position('zero')\n",
        "  ax.plot(time, voltage)\n",
        "  ax.set_title('Manchester', fontsize = 15)\n",
        "  plt.xticks(np.arange(0, len(input_stream) + 1, 1))\n",
        "  plt.yticks(np.arange(-1*peak_voltage, peak_voltage+1, 1))\n",
        "  ax.set_xlabel('Time', fontsize = 12, x = 1)\n",
        "  ax.set_ylabel('Amplitude', fontsize=12)  \n",
        "\n",
        "  return voltage"
      ],
      "execution_count": null,
      "outputs": []
    },
    {
      "cell_type": "code",
      "metadata": {
        "colab": {
          "base_uri": "https://localhost:8080/"
        },
        "id": "BeTmFcvsmKDM",
        "outputId": "e39eccd8-d66f-4f38-f916-eedbcdbc5dd4"
      },
      "source": [
        "input_stream = [1,1,1,0,0,1,1,0,1,1]\n",
        "voltage = manchester(input_stream, 5)"
      ],
      "execution_count": null,
      "outputs": [
        {
          "output_type": "display_data",
          "data": {
            "image/png": "[encoded data removed]",
            "text/plain": [
              "<Figure size 432x288 with 1 Axes>"
            ]
          },
          "metadata": {
            "needs_background": "light"
          }
        }
      ]
    },
    {
      "cell_type": "markdown",
      "metadata": {
        "id": "AT3rr4pWICjl"
      },
      "source": [
        "$\\textrm{Decoding:}$"
      ]
    },
    {
      "cell_type": "code",
      "metadata": {
        "colab": {
          "base_uri": "https://localhost:8080/"
        },
        "id": "SZGmzxvpIByu",
        "outputId": "3d542fb4-6e21-42d9-b308-6fab4d96d370"
      },
      "source": [
        "i = 0\n",
        "decoded_output = []\n",
        "while (i<len(input_stream)*1000):\n",
        "  if voltage[i] == 5:\n",
        "    decoded_output.append(0)\n",
        "  else:\n",
        "    decoded_output.append(1)\n",
        "  i+=1000\n",
        "\n",
        "print(decoded_output)"
      ],
      "execution_count": null,
      "outputs": [
        {
          "output_type": "stream",
          "name": "stdout",
          "text": [
            "[1, 1, 1, 0, 0, 1, 1, 0, 1, 1]\n"
          ]
        }
      ]
    },
    {
      "cell_type": "markdown",
      "metadata": {
        "id": "ilpdjjIwng-X"
      },
      "source": [
        "$$\\textsf{6) Differential Manchester}$$"
      ]
    },
    {
      "cell_type": "code",
      "metadata": {
        "id": "A8CNizpDoDpq"
      },
      "source": [
        "def diff_manchester(input_stream, peak_voltage):\n",
        "  time = [-0.001]\n",
        "  time.extend(np.arange(0, len(input_stream), 0.001)) \n",
        "  voltage = [peak_voltage]\n",
        "  flag = 0\n",
        "  last_voltage = -1*peak_voltage\n",
        "\n",
        "  for i in input_stream:\n",
        "    if i==0:\n",
        "      for j in np.arange(flag, flag+0.5, 0.001):\n",
        "        voltage.append(last_voltage)\n",
        "      for j in np.arange(flag+0.5, flag+1, 0.001):\n",
        "        voltage.append(-1*last_voltage)\n",
        "    else:\n",
        "      last_voltage = -1*last_voltage\n",
        "      for j in np.arange(flag, flag+0.5, 0.001):\n",
        "        voltage.append(last_voltage)\n",
        "      for j in np.arange(flag+0.5, flag+1, 0.001):\n",
        "        voltage.append(-1*last_voltage)\n",
        "    flag = flag + 1\n",
        "\n",
        "  fig, ax = plt.subplots()\n",
        "  for spine in ['top', 'right']:\n",
        "    ax.spines[spine].set_visible(False)\n",
        "  ax.spines['bottom'].set_position('zero')\n",
        "  ax.plot(time, voltage)\n",
        "  ax.set_title('Differential Manchester', fontsize = 15)\n",
        "  plt.xticks(np.arange(0, len(input_stream) + 1, 1))\n",
        "  plt.yticks(np.arange(-1*peak_voltage, peak_voltage+1, 1))\n",
        "  ax.set_xlabel('Time', fontsize = 12, x = 1)\n",
        "  ax.set_ylabel('Amplitude', fontsize=12)  \n",
        "\n",
        "  return voltage"
      ],
      "execution_count": null,
      "outputs": []
    },
    {
      "cell_type": "code",
      "metadata": {
        "colab": {
          "base_uri": "https://localhost:8080/"
        },
        "id": "rtXtgZwd5pVG",
        "outputId": "fb1a233b-fd1a-42b4-978d-d8a1a05acc62"
      },
      "source": [
        "input_stream = [0,1,1,0,0,1,1,0,1,1]\n",
        "voltage = diff_manchester(input_stream, 5)"
      ],
      "execution_count": null,
      "outputs": [
        {
          "output_type": "display_data",
          "data": {
            "image/png": "[encoded data removed]",
            "text/plain": [
              "<Figure size 432x288 with 1 Axes>"
            ]
          },
          "metadata": {
            "needs_background": "light"
          }
        }
      ]
    },
    {
      "cell_type": "markdown",
      "metadata": {
        "id": "z4QOq16WGQuk"
      },
      "source": [
        "$$\\textsf{7) Bipolar AMI}$$"
      ]
    },
    {
      "cell_type": "markdown",
      "metadata": {
        "id": "Qt5Dl1_9JitR"
      },
      "source": [
        "$\\textrm{Encoding:}$"
      ]
    },
    {
      "cell_type": "code",
      "metadata": {
        "id": "f2hf2PVZGaem"
      },
      "source": [
        "def bipolar_AMI(input_stream, peak_voltage):\n",
        "  time = np.arange(0, len(input_stream), 0.001)\n",
        "  voltage = []\n",
        "  flag = 0\n",
        "  last_voltage = -1*peak_voltage\n",
        "\n",
        "  for i in input_stream:\n",
        "    if i==0:\n",
        "      for j in np.arange(flag, flag+1, 0.001):\n",
        "        voltage.append(0)\n",
        "    else:\n",
        "      last_voltage = -1*last_voltage\n",
        "      for j in np.arange(flag, flag+1, 0.001):\n",
        "        voltage.append(last_voltage)\n",
        "\n",
        "  fig, ax = plt.subplots()\n",
        "  for spine in ['top', 'right']:\n",
        "    ax.spines[spine].set_visible(False)\n",
        "  ax.spines['bottom'].set_position('zero')\n",
        "  ax.plot(time, voltage)\n",
        "  ax.set_title('Bipolar AMI', fontsize = 15)\n",
        "  plt.xticks(np.arange(0, len(input_stream) + 1, 1))\n",
        "  plt.yticks(np.arange(-1*peak_voltage, peak_voltage+1, 1))\n",
        "  ax.set_xlabel('Time', fontsize = 12, x = 1)\n",
        "  ax.set_ylabel('Amplitude', fontsize=12)    \n",
        "\n",
        "  return voltage      "
      ],
      "execution_count": null,
      "outputs": []
    },
    {
      "cell_type": "code",
      "metadata": {
        "colab": {
          "base_uri": "https://localhost:8080/"
        },
        "id": "ZDgakd7QHdvp",
        "outputId": "13eb23d0-faff-4d63-cb8b-cb97d898702a"
      },
      "source": [
        "input_stream = [0,1,1,0,0,1,1,0,1,1]\n",
        "voltage = bipolar_AMI(input_stream, 5)"
      ],
      "execution_count": null,
      "outputs": [
        {
          "output_type": "display_data",
          "data": {
            "image/png": "[encoded data removed]",
            "text/plain": [
              "<Figure size 432x288 with 1 Axes>"
            ]
          },
          "metadata": {
            "needs_background": "light"
          }
        }
      ]
    },
    {
      "cell_type": "markdown",
      "metadata": {
        "id": "jqWWIId1JmAp"
      },
      "source": [
        "$\\textrm{Decoding:}$"
      ]
    },
    {
      "cell_type": "code",
      "metadata": {
        "colab": {
          "base_uri": "https://localhost:8080/"
        },
        "id": "LRCBhH9mJrg5",
        "outputId": "925943f3-c14c-44a3-e6f5-275eb74925f3"
      },
      "source": [
        "i = 0\n",
        "last_voltage = -5\n",
        "decoded_output = []\n",
        "while (i<len(input_stream)*1000):\n",
        "  if voltage[i] == -1*last_voltage:\n",
        "    decoded_output.append(1)\n",
        "    last_voltage = -1*last_voltage\n",
        "  else:\n",
        "    decoded_output.append(0)\n",
        "  i+=1000\n",
        "\n",
        "print(decoded_output)"
      ],
      "execution_count": null,
      "outputs": [
        {
          "output_type": "stream",
          "name": "stdout",
          "text": [
            "[0, 1, 1, 0, 0, 1, 1, 0, 1, 1]\n"
          ]
        }
      ]
    },
    {
      "cell_type": "markdown",
      "metadata": {
        "id": "kLn-YmAIHvh2"
      },
      "source": [
        "$$\\textsf{8) Bipolar Pseudoternary}$$"
      ]
    },
    {
      "cell_type": "markdown",
      "metadata": {
        "id": "rWDXPOjdKlYn"
      },
      "source": [
        "$\\textrm{Encoding:}$"
      ]
    },
    {
      "cell_type": "code",
      "metadata": {
        "id": "4I4Rd3cYHuph"
      },
      "source": [
        "def bipolar_pseudoternary(input_stream, peak_voltage):\n",
        "  time = np.arange(0, len(input_stream), 0.001)\n",
        "  voltage = []\n",
        "  flag = 0\n",
        "  last_voltage = -1*peak_voltage\n",
        "\n",
        "  for i in input_stream:\n",
        "    if i==1:\n",
        "      for j in np.arange(flag, flag+1, 0.001):\n",
        "        voltage.append(0)\n",
        "    else:\n",
        "      last_voltage = -1*last_voltage\n",
        "      for j in np.arange(flag, flag+1, 0.001):\n",
        "        voltage.append(last_voltage)\n",
        "\n",
        "  fig, ax = plt.subplots()\n",
        "  for spine in ['top', 'right']:\n",
        "    ax.spines[spine].set_visible(False)\n",
        "  ax.spines['bottom'].set_position('zero')\n",
        "  ax.plot(time, voltage)\n",
        "  ax.set_title('Bipolar Pseudoternary', fontsize = 15)\n",
        "  plt.xticks(np.arange(0, len(input_stream) + 1, 1))\n",
        "  plt.yticks(np.arange(-1*peak_voltage, peak_voltage+1, 1))\n",
        "  ax.set_xlabel('Time', fontsize = 12, x = 1)\n",
        "  ax.set_ylabel('Amplitude', fontsize=12)  \n",
        "\n",
        "  return voltage        "
      ],
      "execution_count": null,
      "outputs": []
    },
    {
      "cell_type": "code",
      "metadata": {
        "colab": {
          "base_uri": "https://localhost:8080/"
        },
        "id": "OmnpLHtVIn5X",
        "outputId": "59ab3275-63eb-475b-d559-f404a6c12842"
      },
      "source": [
        "input_stream = [0,1,1,0,0,1,1,0,1,1]\n",
        "voltage = bipolar_pseudoternary(input_stream, 5)"
      ],
      "execution_count": null,
      "outputs": [
        {
          "output_type": "display_data",
          "data": {
            "image/png": "[encoded data removed]",
            "text/plain": [
              "<Figure size 432x288 with 1 Axes>"
            ]
          },
          "metadata": {
            "needs_background": "light"
          }
        }
      ]
    },
    {
      "cell_type": "markdown",
      "metadata": {
        "id": "VIC5aQruKppl"
      },
      "source": [
        "$\\textrm{Decoding:}$"
      ]
    },
    {
      "cell_type": "code",
      "metadata": {
        "colab": {
          "base_uri": "https://localhost:8080/"
        },
        "id": "DUr-pXgnKu7V",
        "outputId": "a3f08ec5-6413-492f-c095-b581cc681cef"
      },
      "source": [
        "i = 0\n",
        "last_voltage = -5\n",
        "decoded_output = []\n",
        "while (i<len(input_stream)*1000):\n",
        "  if voltage[i] == -1*last_voltage:\n",
        "    decoded_output.append(0)\n",
        "    last_voltage = -1*last_voltage\n",
        "  else:\n",
        "    decoded_output.append(1)\n",
        "  i+=1000\n",
        "\n",
        "print(decoded_output)"
      ],
      "execution_count": null,
      "outputs": [
        {
          "output_type": "stream",
          "name": "stdout",
          "text": [
            "[0, 1, 1, 0, 0, 1, 1, 0, 1, 1]\n"
          ]
        }
      ]
    }
  ]
}